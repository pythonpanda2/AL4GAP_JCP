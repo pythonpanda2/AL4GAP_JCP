{
 "cells": [
  {
   "cell_type": "markdown",
   "metadata": {},
   "source": [
    "## Active Learning for Gaussian Approximation Potential\n",
    "\n",
    "### References\n",
    "[1] https://doi.org/10.1103/PhysRevB.106.014209 \n",
    "\n",
    "[2] https://doi.org/10.1038/s41524-020-00367-7\n",
    "\n",
    "[3] https://doi.org/10.1103/PhysRevLett.126.156002\n",
    "\n",
    "[4] https://github.com/pythonpanda2/active-learning-md\n",
    "\n",
    "### Dataset\n",
    "Molten salt composition, CaCl2-NdCl3\n"
   ]
  },
  {
   "cell_type": "markdown",
   "metadata": {},
   "source": [
    "### Visualization of the dataset"
   ]
  },
  {
   "cell_type": "code",
   "execution_count": 1,
   "metadata": {
    "scrolled": true
   },
   "outputs": [
    {
     "data": {
      "text/plain": [
       "<subprocess.Popen at 0x2b0b77444550>"
      ]
     },
     "execution_count": 1,
     "metadata": {},
     "output_type": "execute_result"
    }
   ],
   "source": [
    "from ase.io import read\n",
    "from ase.visualize import view \n",
    "import warnings\n",
    "warnings.filterwarnings(\"ignore\", category=FutureWarning)\n",
    "\n",
    "traj = read('To_QUIP.extxyz',':')\n",
    "\n",
    "view(traj[:1000:5])"
   ]
  },
  {
   "cell_type": "markdown",
   "metadata": {},
   "source": [
    "### Set up the Active Learning"
   ]
  },
  {
   "cell_type": "code",
   "execution_count": 2,
   "metadata": {},
   "outputs": [
    {
     "name": "stdout",
     "output_type": "stream",
     "text": [
      "Help on function run_AL in module AL4GAP.AL4GAP:\n",
      "\n",
      "run_AL(execpath, xyzfilename='To_QUIP.extxyz', nsample=10, nminclust=30, cutoff=(4, 7), sparse=(100, 1200), lmax=(4, 6), nmax=(7, 12), Nopt=(10, 20), Etol=0.09)\n",
      "    A wrap around function to invoke on-the-fly AL and BO. \n",
      "    :param execpath: str\n",
      "    :param xyzfilename:  str\n",
      "    :param nsample:  int\n",
      "    :param nminclust : int\n",
      "    :param cutoff : float tuple\n",
      "    :param sparse : int tuple\n",
      "    :param lmax : int tuple\n",
      "    :param nmax : int tuple\n",
      "    :param Nopt : int tuple\n",
      "    :param Etol : float\n",
      "    Return type: None\n",
      "\n"
     ]
    },
    {
     "name": "stderr",
     "output_type": "stream",
     "text": [
      "usage: ase [-h] [--version] [-T]\n",
      "           {help,info,test,gui,db,run,band-structure,build,dimensionality,eos,ulm,find,nebplot,nomad-upload,nomad-get,convert,reciprocal,completion,diff,exec}\n",
      "           ...\n",
      "ase: error: TclError: no display name and no $DISPLAY environment variable\n",
      "To get a full traceback, use: ase -T gui ...\n"
     ]
    }
   ],
   "source": [
    "from AL4GAP.AL4GAP import run_AL \n",
    "help(run_AL)"
   ]
  },
  {
   "cell_type": "code",
   "execution_count": 3,
   "metadata": {},
   "outputs": [
    {
     "name": "stdout",
     "output_type": "stream",
     "text": [
      "\n",
      "Number of elements in the smallest, largest cluster is 11, 1910\n",
      "\n",
      "\n",
      " Nnoise : 6628, Nclusters : 141\n",
      "\n",
      "\n",
      " The trials will run in the sampling width interval : (1815,5) \n",
      "\n"
     ]
    },
    {
     "name": "stderr",
     "output_type": "stream",
     "text": [
      "  0%|                                                                                       | 0/26 [00:00<?, ?it/s]"
     ]
    },
    {
     "name": "stdout",
     "output_type": "stream",
     "text": [
      "\n",
      "\n",
      "Beginning  trial number : 1 with a sampling width of 1815\n",
      "\n",
      "\n",
      "Number of training and test configs: 142 , 142\n",
      "\n",
      " 142 new learning configs added by the active sampler\n",
      "\n",
      "Training Completed in 12.89 s\n",
      "\n",
      "Param: Cutoff= 4.46, delta= 1.0, n_sparse= 100, lmax= 4, nmax= 4  |  MAE : 6.36 eV, R2: -0.41\n",
      "\n",
      "Training Completed in 16.77 s\n",
      "\n",
      "Param: Cutoff= 4.82, delta= 0.1, n_sparse= 300, lmax= 6, nmax= 4  |  MAE : 5.15 eV, R2: -0.01\n",
      "\n",
      "Training Completed in 25.96 s\n",
      "\n",
      "Param: Cutoff= 5.12, delta= 0.01, n_sparse= 500, lmax= 4, nmax= 6  |  MAE : 4.35 eV, R2: 0.33\n",
      "\n",
      "Training Completed in 9.99 s\n",
      "\n",
      "Param: Cutoff= 4.24, delta= 0.01, n_sparse= 100, lmax= 6, nmax= 4  |  MAE : 5.87 eV, R2: -0.22\n",
      "\n",
      "Training Completed in 26.85 s\n"
     ]
    },
    {
     "name": "stderr",
     "output_type": "stream",
     "text": [
      "reconstraining parameters GP_regression.rbf\n",
      "reconstraining parameters GP_regression.Gaussian_noise.variance\n"
     ]
    },
    {
     "name": "stdout",
     "output_type": "stream",
     "text": [
      "\n",
      "Param: Cutoff= 5.49, delta= 0.1, n_sparse= 500, lmax= 6, nmax= 5  |  MAE : 4.54 eV, R2: 0.2\n",
      "\n",
      "Begin Optimization run \t\n",
      "\n",
      "Training Completed in 26.54 s\n",
      "\n",
      "Param: Cutoff= 5.12, delta= 0.01, n_sparse= 500, lmax= 4, nmax= 6  |  MAE : 4.45 eV, R2: 0.3\n",
      "\n",
      "Training Completed in 23.52 s\n",
      "\n",
      "Param: Cutoff= 4.0, delta= 1.0, n_sparse= 500, lmax= 4, nmax= 5  |  MAE : 5.86 eV, R2: -0.2\n",
      "\n",
      "Training Completed in 27.33 s\n",
      "\n",
      "Param: Cutoff= 5.34, delta= 0.01, n_sparse= 500, lmax= 4, nmax= 6  |  MAE : 5.07 eV, R2: 0.09\n",
      "\n",
      "Training Completed in 31.03 s\n",
      "\n",
      "Param: Cutoff= 5.5, delta= 0.01, n_sparse= 500, lmax= 6, nmax= 6  |  MAE : 5.02 eV, R2: 0.09\n",
      "\n",
      "Training Completed in 26.7 s\n",
      "\n",
      "Param: Cutoff= 5.11, delta= 0.01, n_sparse= 500, lmax= 4, nmax= 6  |  MAE : 4.33 eV, R2: 0.34\n",
      "\n",
      "Training Completed in 26.88 s\n",
      "\n",
      "Param: Cutoff= 4.94, delta= 0.01, n_sparse= 500, lmax= 4, nmax= 6  |  MAE : 4.27 eV, R2: 0.38\n",
      "\n",
      "Training Completed in 26.37 s\n",
      "\n",
      "Param: Cutoff= 4.84, delta= 0.01, n_sparse= 500, lmax= 4, nmax= 6  |  MAE : 4.47 eV, R2: 0.29\n",
      "\n",
      "Training Completed in 23.43 s\n",
      "\n",
      "Param: Cutoff= 5.5, delta= 0.01, n_sparse= 500, lmax= 6, nmax= 4  |  MAE : 4.85 eV, R2: 0.14\n",
      "\n",
      "Training Completed in 27.07 s\n",
      "\n",
      "Param: Cutoff= 4.99, delta= 0.01, n_sparse= 500, lmax= 4, nmax= 6  |  MAE : 4.25 eV, R2: 0.38\n",
      "\n",
      "Training Completed in 24.8 s\n",
      "\n",
      "Param: Cutoff= 5.01, delta= 1.0, n_sparse= 400, lmax= 5, nmax= 6  |  MAE : 4.5 eV, R2: 0.3\n"
     ]
    },
    {
     "name": "stderr",
     "output_type": "stream",
     "text": [
      "  0%|                                                                                       | 0/26 [17:30<?, ?it/s]"
     ]
    },
    {
     "name": "stdout",
     "output_type": "stream",
     "text": [
      "\n",
      " MAE lowered in this trial: 0.06744334961460928 eV/Atom\n",
      "\n",
      " Optimal configs found! on 1th trial with hyper parameters : {'cutoff': 4.986024884859552, 'delta': 0.01, 'n_sparse': 500.0, 'lmax': 4.0, 'nmax': 6.0, 'MAE': 4.248931025720385}\n",
      "\n",
      "\n",
      "Active learning history written to 'activelearned_quipconfigs.json' \n",
      "\n",
      "Active learnied configurations written to 'opt_train.extxyz','opt_test.extxyz' \n"
     ]
    },
    {
     "name": "stderr",
     "output_type": "stream",
     "text": [
      "\n",
      "findfont: Font family ['Arial'] not found. Falling back to DejaVu Sans.\n",
      "findfont: Font family ['Arial'] not found. Falling back to DejaVu Sans.\n",
      "findfont: Font family ['Arial'] not found. Falling back to DejaVu Sans.\n"
     ]
    },
    {
     "data": {
      "image/png": "[encoded data removed]",
      "text/plain": [
       "<Figure size 800x550 with 1 Axes>"
      ]
     },
     "metadata": {},
     "output_type": "display_data"
    }
   ],
   "source": [
    "run_AL(execpath=\"/lcrc/project/AL-IP/vwoo/AL4GAP/Notebook/\",\\\n",
    "        xyzfilename=\"To_QUIP.extxyz\", nsample=10,\n",
    "        nminclust=10,\n",
    "        cutoff=(4, 5.5),\n",
    "        sparse=(100, 500),\n",
    "        lmax=(4, 6), \n",
    "        nmax=(4, 6),\n",
    "        Nopt=(5, 10), #--> BO iterations\n",
    "        Etol=0.08 #--> convergence tolerance in eV/atom\n",
    "      )"
   ]
  },
  {
   "cell_type": "code",
   "execution_count": null,
   "metadata": {},
   "outputs": [],
   "source": []
  }
 ],
 "metadata": {
  "kernelspec": {
   "display_name": "ss-al4gap",
   "language": "python",
   "name": "ss-al4gap"
  },
  "language_info": {
   "codemirror_mode": {
    "name": "ipython",
    "version": 3
   },
   "file_extension": ".py",
   "mimetype": "text/x-python",
   "name": "python",
   "nbconvert_exporter": "python",
   "pygments_lexer": "ipython3",
   "version": "3.7.13"
  },
  "vscode": {
   "interpreter": {
    "hash": "3a87f4817c8a71d724ef603e12a51ae3a11f3fa1c8da46d6e2f21f833ddc2285"
   }
  }
 },
 "nbformat": 4,
 "nbformat_minor": 2
}
